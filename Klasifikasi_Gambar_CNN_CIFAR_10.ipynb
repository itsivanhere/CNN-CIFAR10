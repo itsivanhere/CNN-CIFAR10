{
  "cells": [
    {
      "cell_type": "code",
      "execution_count": null,
      "metadata": {
        "id": "6AUH4nRVKYr6"
      },
      "outputs": [],
      "source": [
        "# Ivan Christopher - C14190193"
      ]
    },
    {
      "cell_type": "code",
      "execution_count": null,
      "metadata": {
        "id": "6B8kt8r10mS8"
      },
      "outputs": [],
      "source": [
        "import tensorflow as tf   # Import library\n",
        "from tensorflow.keras import datasets, layers, models\n",
        "import matplotlib.pyplot as plt\n",
        "import numpy as np"
      ]
    },
    {
      "cell_type": "code",
      "execution_count": null,
      "metadata": {
        "colab": {
          "base_uri": "https://localhost:8080/"
        },
        "id": "iy8K0mOo00Mt",
        "outputId": "15017906-ac1e-4589-dc3d-72a8580c8544"
      },
      "outputs": [
        {
          "data": {
            "text/plain": [
              "(50000, 32, 32, 3)"
            ]
          },
          "execution_count": 51,
          "metadata": {},
          "output_type": "execute_result"
        }
      ],
      "source": [
        "(X_train, y_train), (X_test,y_test) = datasets.cifar10.load_data()    # load dataset gambar\n",
        "X_train.shape"
      ]
    },
    {
      "cell_type": "code",
      "execution_count": null,
      "metadata": {
        "colab": {
          "base_uri": "https://localhost:8080/"
        },
        "id": "V1hFtCy104xU",
        "outputId": "edc2a19f-cdba-4846-c045-963194102168"
      },
      "outputs": [
        {
          "name": "stdout",
          "output_type": "stream",
          "text": [
            "Jumlah Test Image:  (10000, 32, 32, 3)\n"
          ]
        }
      ],
      "source": [
        "print(\"Jumlah Test Image: \", X_test.shape)       # cek jumlah test image"
      ]
    },
    {
      "cell_type": "code",
      "execution_count": null,
      "metadata": {
        "colab": {
          "base_uri": "https://localhost:8080/"
        },
        "id": "EGHPxIWp07Dl",
        "outputId": "ff1b1846-4431-4301-b18b-6192de1223c6"
      },
      "outputs": [
        {
          "data": {
            "text/plain": [
              "(50000, 1)"
            ]
          },
          "execution_count": 53,
          "metadata": {},
          "output_type": "execute_result"
        }
      ],
      "source": [
        "y_train.shape      # cek jumlah training image"
      ]
    },
    {
      "cell_type": "code",
      "execution_count": null,
      "metadata": {
        "colab": {
          "base_uri": "https://localhost:8080/"
        },
        "id": "WvxQuupV08Oj",
        "outputId": "594ad5cc-eab9-4bdd-97a4-3d5056b2b085"
      },
      "outputs": [
        {
          "data": {
            "text/plain": [
              "array([[6],\n",
              "       [9],\n",
              "       [9],\n",
              "       [4],\n",
              "       [1]], dtype=uint8)"
            ]
          },
          "execution_count": 54,
          "metadata": {},
          "output_type": "execute_result"
        }
      ],
      "source": [
        "y_train[:5]     "
      ]
    },
    {
      "cell_type": "code",
      "execution_count": null,
      "metadata": {
        "colab": {
          "base_uri": "https://localhost:8080/"
        },
        "id": "g0tGyE3w09NE",
        "outputId": "6ed0b7db-da5e-439e-a1b0-8e40e78f75db"
      },
      "outputs": [
        {
          "data": {
            "text/plain": [
              "array([6, 9, 9, 4, 1], dtype=uint8)"
            ]
          },
          "execution_count": 55,
          "metadata": {},
          "output_type": "execute_result"
        }
      ],
      "source": [
        "y_train = y_train.reshape(-1,)\n",
        "y_train[:5]"
      ]
    },
    {
      "cell_type": "code",
      "execution_count": null,
      "metadata": {
        "id": "F3IkJtu509Gr"
      },
      "outputs": [],
      "source": [
        "y_test = y_test.reshape(-1,)"
      ]
    },
    {
      "cell_type": "code",
      "execution_count": null,
      "metadata": {
        "id": "cr5NnInQ089m"
      },
      "outputs": [],
      "source": [
        "classes = [\"airplane\",\"automobile\",\"bird\",\"cat\",\"deer\",\"dog\",\"frog\",\"horse\",\"ship\",\"truck\"]"
      ]
    },
    {
      "cell_type": "code",
      "execution_count": null,
      "metadata": {
        "id": "RscRfx4u083N"
      },
      "outputs": [],
      "source": [
        "def plot_image(X, y, index):\n",
        "    plt.figure(figsize = (15,2))\n",
        "    plt.imshow(X[index])\n",
        "    plt.xlabel(classes[y[index]])"
      ]
    },
    {
      "cell_type": "code",
      "execution_count": null,
      "metadata": {
        "colab": {
          "base_uri": "https://localhost:8080/",
          "height": 208
        },
        "id": "1kONxUoL08qF",
        "outputId": "1b61c7a3-acf5-46ba-cbaa-3b8c9f261f2a"
      },
      "outputs": [
        {
          "name": "stdout",
          "output_type": "stream",
          "text": [
            "Gambar dan nama dari dataset secara langsung: \n",
            "\n"
          ]
        },
        {
          "data": {
            "image/png": "[encoded data removed]",
            "text/plain": [
              "<Figure size 1080x144 with 1 Axes>"
            ]
          },
          "metadata": {
            "needs_background": "light"
          },
          "output_type": "display_data"
        }
      ],
      "source": [
        "print(\"Gambar dan nama dari dataset secara langsung: \\n\")\n",
        "plot_image(X_train, y_train, 10)"
      ]
    },
    {
      "cell_type": "code",
      "execution_count": null,
      "metadata": {
        "id": "wygarvln1K75"
      },
      "outputs": [],
      "source": [
        "X_train = X_train / 255.0      # menormalisasi nilai pixel dari test dan training image antara 0 dan 1\n",
        "X_test = X_test / 255.0"
      ]
    },
    {
      "cell_type": "code",
      "execution_count": null,
      "metadata": {
        "colab": {
          "base_uri": "https://localhost:8080/"
        },
        "id": "gmhThPYA1K0y",
        "outputId": "acb91699-c92c-4a66-d7bf-9c6015a3e075"
      },
      "outputs": [
        {
          "name": "stdout",
          "output_type": "stream",
          "text": [
            "Epoch 1/5\n",
            "1563/1563 [==============================] - 12s 7ms/step - loss: 1.8719 - accuracy: 0.3274\n",
            "Epoch 2/5\n",
            "1563/1563 [==============================] - 12s 8ms/step - loss: 1.6859 - accuracy: 0.4005\n",
            "Epoch 3/5\n",
            "1563/1563 [==============================] - 12s 7ms/step - loss: 1.6066 - accuracy: 0.4302\n",
            "Epoch 4/5\n",
            "1563/1563 [==============================] - 12s 8ms/step - loss: 1.5491 - accuracy: 0.4498\n",
            "Epoch 5/5\n",
            "1563/1563 [==============================] - 12s 8ms/step - loss: 1.5087 - accuracy: 0.4638\n"
          ]
        },
        {
          "data": {
            "text/plain": [
              "<keras.callbacks.History at 0x7f2c2fe52d50>"
            ]
          },
          "execution_count": 62,
          "metadata": {},
          "output_type": "execute_result"
        }
      ],
      "source": [
        "ann = models.Sequential([                       # artificial neural network\n",
        "        layers.Flatten(input_shape=(32,32,3)),\n",
        "        layers.Dense(300, activation='relu'),\n",
        "        layers.Dense(100, activation='relu'),\n",
        "        layers.Dense(10, activation='softmax')    \n",
        "    ])\n",
        "\n",
        "ann.compile(optimizer='SGD',\n",
        "              loss='sparse_categorical_crossentropy',\n",
        "              metrics=['accuracy'])\n",
        "\n",
        "ann.fit(X_train, y_train, epochs=5)"
      ]
    },
    {
      "cell_type": "code",
      "execution_count": null,
      "metadata": {
        "colab": {
          "base_uri": "https://localhost:8080/"
        },
        "id": "AUBvc-z51Okj",
        "outputId": "163117b0-411c-46c8-ce65-56445b32b459"
      },
      "outputs": [
        {
          "name": "stdout",
          "output_type": "stream",
          "text": [
            "Laporan Klasifikasi: \n",
            "               precision    recall  f1-score   support\n",
            "\n",
            "           0       0.48      0.48      0.48      1000\n",
            "           1       0.54      0.61      0.57      1000\n",
            "           2       0.30      0.39      0.34      1000\n",
            "           3       0.36      0.30      0.33      1000\n",
            "           4       0.47      0.16      0.24      1000\n",
            "           5       0.42      0.31      0.36      1000\n",
            "           6       0.38      0.74      0.50      1000\n",
            "           7       0.61      0.40      0.49      1000\n",
            "           8       0.44      0.75      0.56      1000\n",
            "           9       0.71      0.25      0.37      1000\n",
            "\n",
            "    accuracy                           0.44     10000\n",
            "   macro avg       0.47      0.44      0.42     10000\n",
            "weighted avg       0.47      0.44      0.42     10000\n",
            "\n"
          ]
        }
      ],
      "source": [
        "from sklearn.metrics import confusion_matrix , classification_report    # isi laporan klasifikasi\n",
        "import numpy as np\n",
        "y_pred = ann.predict(X_test)\n",
        "y_pred_classes = [np.argmax(element) for element in y_pred]\n",
        "\n",
        "print(\"Laporan Klasifikasi: \\n\", classification_report(y_test, y_pred_classes))"
      ]
    },
    {
      "cell_type": "code",
      "execution_count": null,
      "metadata": {
        "id": "0voUA3bd1O4G"
      },
      "outputs": [],
      "source": [
        "cnn = models.Sequential([                                                                     # inisiliasi CNN\n",
        "    layers.Conv2D(filters=64, kernel_size=(3, 3), activation='relu', input_shape=(32, 32, 3)),\n",
        "    layers.MaxPooling2D((2, 2)),\n",
        "    \n",
        "    layers.Conv2D(filters=128, kernel_size=(3, 3), activation='relu'),\n",
        "    layers.MaxPooling2D((2, 2)),\n",
        "    \n",
        "    layers.Flatten(),\n",
        "    layers.Dense(64, activation='relu'),\n",
        "    layers.Dense(10, activation='softmax')\n",
        "])"
      ]
    },
    {
      "cell_type": "code",
      "execution_count": null,
      "metadata": {
        "id": "ivG48FDJ1XHB"
      },
      "outputs": [],
      "source": [
        "cnn.compile(optimizer='adam', loss='sparse_categorical_crossentropy', metrics=['accuracy'])  # metode untuk proses CNN"
      ]
    },
    {
      "cell_type": "code",
      "execution_count": null,
      "metadata": {
        "colab": {
          "base_uri": "https://localhost:8080/"
        },
        "id": "MXONWZLh1Y24",
        "outputId": "0d8b70e2-b343-4e27-fd38-fcb26280cd0a"
      },
      "outputs": [
        {
          "name": "stdout",
          "output_type": "stream",
          "text": [
            "Epoch 1/10\n",
            "1563/1563 [==============================] - 146s 93ms/step - loss: 1.4135 - accuracy: 0.4921\n",
            "Epoch 2/10\n",
            "1563/1563 [==============================] - 145s 93ms/step - loss: 1.0475 - accuracy: 0.6336\n",
            "Epoch 3/10\n",
            "1563/1563 [==============================] - 145s 93ms/step - loss: 0.9082 - accuracy: 0.6866\n",
            "Epoch 4/10\n",
            "1563/1563 [==============================] - 145s 93ms/step - loss: 0.8158 - accuracy: 0.7160\n",
            "Epoch 5/10\n",
            "1563/1563 [==============================] - 145s 92ms/step - loss: 0.7370 - accuracy: 0.7473\n",
            "Epoch 6/10\n",
            "1563/1563 [==============================] - 148s 95ms/step - loss: 0.6705 - accuracy: 0.7678\n",
            "Epoch 7/10\n",
            "1563/1563 [==============================] - 148s 95ms/step - loss: 0.6129 - accuracy: 0.7867\n",
            "Epoch 8/10\n",
            "1563/1563 [==============================] - 148s 94ms/step - loss: 0.5591 - accuracy: 0.8050\n",
            "Epoch 9/10\n",
            "1563/1563 [==============================] - 147s 94ms/step - loss: 0.5077 - accuracy: 0.8229\n",
            "Epoch 10/10\n",
            "1563/1563 [==============================] - 147s 94ms/step - loss: 0.4599 - accuracy: 0.8378\n"
          ]
        },
        {
          "data": {
            "text/plain": [
              "<keras.callbacks.History at 0x7f2c2f930690>"
            ]
          },
          "execution_count": 68,
          "metadata": {},
          "output_type": "execute_result"
        }
      ],
      "source": [
        "cnn.fit(X_train, y_train, epochs=10)    # training data gambar"
      ]
    },
    {
      "cell_type": "code",
      "execution_count": null,
      "metadata": {
        "colab": {
          "base_uri": "https://localhost:8080/"
        },
        "id": "09rj0d0t1ar6",
        "outputId": "021a6e2f-1f44-4d0c-a1a8-7e65749960b2"
      },
      "outputs": [
        {
          "name": "stdout",
          "output_type": "stream",
          "text": [
            "313/313 [==============================] - 8s 26ms/step - loss: 0.9545 - accuracy: 0.7057\n"
          ]
        },
        {
          "data": {
            "text/plain": [
              "[0.9544531106948853, 0.7056999802589417]"
            ]
          },
          "execution_count": 69,
          "metadata": {},
          "output_type": "execute_result"
        }
      ],
      "source": [
        "cnn.evaluate(X_test,y_test)     # hasil evaluasi training data"
      ]
    },
    {
      "cell_type": "code",
      "execution_count": null,
      "metadata": {
        "colab": {
          "base_uri": "https://localhost:8080/"
        },
        "id": "RcmBJmoE1dGK",
        "outputId": "c039b438-d3c0-4b83-a29a-9ba7a50086ba"
      },
      "outputs": [
        {
          "data": {
            "text/plain": [
              "array([[1.6186201e-05, 9.5702987e-08, 1.3886677e-04, 9.8713034e-01,\n",
              "        5.5641958e-05, 3.3225475e-03, 8.8662505e-03, 3.9109730e-04,\n",
              "        7.6514625e-05, 2.2896786e-06],\n",
              "       [6.8770753e-08, 1.4700015e-03, 1.5678622e-10, 5.0366582e-11,\n",
              "        6.8108678e-15, 1.9128608e-10, 3.1961214e-10, 1.7059262e-16,\n",
              "        9.9852633e-01, 3.6182830e-06],\n",
              "       [1.4825088e-02, 4.5811636e-03, 1.4944776e-03, 5.1418277e-03,\n",
              "        4.8999555e-05, 1.6243634e-04, 8.4747327e-05, 5.6863442e-04,\n",
              "        9.7088271e-01, 2.2099018e-03],\n",
              "       [9.9464428e-01, 3.0300211e-05, 1.8374457e-04, 2.2655135e-04,\n",
              "        1.2247593e-04, 7.6877365e-07, 5.8907426e-06, 1.8166771e-05,\n",
              "        4.4857725e-03, 2.8202758e-04],\n",
              "       [6.2004540e-07, 6.9898952e-06, 1.4225600e-03, 1.5812142e-02,\n",
              "        3.8780755e-01, 2.1702941e-03, 5.9275001e-01, 1.5579706e-06,\n",
              "        2.4223345e-05, 4.0044729e-06]], dtype=float32)"
            ]
          },
          "execution_count": 70,
          "metadata": {},
          "output_type": "execute_result"
        }
      ],
      "source": [
        "y_pred = cnn.predict(X_test)\n",
        "y_pred[:5]"
      ]
    },
    {
      "cell_type": "code",
      "execution_count": null,
      "metadata": {
        "colab": {
          "base_uri": "https://localhost:8080/"
        },
        "id": "gzPHQ5sZ1c-x",
        "outputId": "af7448df-6086-46b8-81e3-b052fa12f1ba"
      },
      "outputs": [
        {
          "data": {
            "text/plain": [
              "[3, 8, 8, 0, 6]"
            ]
          },
          "execution_count": 71,
          "metadata": {},
          "output_type": "execute_result"
        }
      ],
      "source": [
        "y_classes = [np.argmax(element) for element in y_pred]\n",
        "y_classes[:5]"
      ]
    },
    {
      "cell_type": "code",
      "execution_count": null,
      "metadata": {
        "colab": {
          "base_uri": "https://localhost:8080/"
        },
        "id": "RIn4blRI1gNY",
        "outputId": "35b95f0a-c749-4c7d-cca1-6495baa1338f"
      },
      "outputs": [
        {
          "data": {
            "text/plain": [
              "array([3, 8, 8, 0, 6], dtype=uint8)"
            ]
          },
          "execution_count": 72,
          "metadata": {},
          "output_type": "execute_result"
        }
      ],
      "source": [
        "y_test[:5]"
      ]
    },
    {
      "cell_type": "code",
      "execution_count": null,
      "metadata": {
        "colab": {
          "base_uri": "https://localhost:8080/",
          "height": 173
        },
        "id": "hDwY-yGv1f-_",
        "outputId": "518bb2ce-2e85-4a62-d904-cfc47d1fb781"
      },
      "outputs": [
        {
          "data": {
            "image/png": "[encoded data removed]",
            "text/plain": [
              "<Figure size 1080x144 with 1 Axes>"
            ]
          },
          "metadata": {
            "needs_background": "light"
          },
          "output_type": "display_data"
        }
      ],
      "source": [
        "plot_image(X_test, y_test,10)  # hasil output yang diambil dari dataset secara langsung"
      ]
    },
    {
      "cell_type": "code",
      "execution_count": null,
      "metadata": {
        "colab": {
          "base_uri": "https://localhost:8080/",
          "height": 35
        },
        "id": "QN3WsGIX1k-R",
        "outputId": "8264d554-708d-435e-80d8-a875d1f86ff0"
      },
      "outputs": [
        {
          "data": {
            "application/vnd.google.colaboratory.intrinsic+json": {
              "type": "string"
            },
            "text/plain": [
              "'airplane'"
            ]
          },
          "execution_count": 77,
          "metadata": {},
          "output_type": "execute_result"
        }
      ],
      "source": [
        "classes[y_classes[10]]        # hasil prediksi"
      ]
    }
  ],
  "metadata": {
    "colab": {
      "collapsed_sections": [],
      "name": "Klasifikasi_Gambar_CNN_CIFAR-10.ipynb",
      "provenance": []
    },
    "kernelspec": {
      "display_name": "Python 3",
      "name": "python3"
    },
    "language_info": {
      "name": "python"
    }
  },
  "nbformat": 4,
  "nbformat_minor": 0
}
